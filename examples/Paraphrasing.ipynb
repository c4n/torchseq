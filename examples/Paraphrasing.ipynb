{
 "cells": [
  {
   "cell_type": "code",
   "execution_count": 4,
   "metadata": {},
   "outputs": [],
   "source": [
    "import json\n",
    "from torchseq.agents.para_agent import ParaphraseAgent\n",
    "from torchseq.datasets.json_loader import JsonDataLoader\n",
    "from torchseq.utils.config import Config\n",
    "from torchseq.metric_hooks.textual import TextualMetricHook\n",
    "import torch\n",
    "\n",
    "model_path = '../models/examples/20210222_152157_paraphrasing_vae/'\n",
    "# model_path = '../models/examples/20210503_184659_paraphrasing_vqvae/'\n",
    "# model_path = '../models/examples/20210225_112226_paraphrasing_ae/'\n",
    "\n",
    "\n",
    "# Load the config\n",
    "with open(model_path + 'config.json') as f:\n",
    "    cfg_dict = json.load(f)\n",
    "cfg_dict[\"env\"][\"data_path\"] = \"../data/\"\n",
    "\n",
    "\n",
    "config = Config(cfg_dict)\n",
    "\n",
    "# Load the model\n",
    "instance = ParaphraseAgent(config=config, run_id=None, output_path=\"./runs/examples/paraphrasing_eval\", silent=False, verbose=False, training_mode=False)\n",
    "instance.load_checkpoint(model_path + 'model/checkpoint.pt')\n",
    "instance.model.eval()\n",
    "\n",
    "# Create a dataset\n",
    "data_loader = JsonDataLoader(config)\n",
    "\n",
    "# Run inference on the test split\n",
    "# test_loss, all_metrics, (pred_output, gold_output, gold_input), memory_values_to_return = instance.inference(data_loader.test_loader, metric_hooks=[TextualMetricHook(config, 's1', 's2')])\n",
    "\n",
    "# Done!\n",
    "# print(all_metrics['ibleu'])"
   ]
  },
  {
   "cell_type": "code",
   "execution_count": 5,
   "metadata": {},
   "outputs": [
    {
     "name": "stderr",
     "output_type": "stream",
     "text": [
      "Validating after 0 epochs: 100%|██████████| 1/1 [00:00<00:00,  6.07it/s]"
     ]
    },
    {
     "name": "stdout",
     "output_type": "stream",
     "text": [
      "['what is the oldest cat in the world?']\n"
     ]
    },
    {
     "name": "stderr",
     "output_type": "stream",
     "text": [
      "\n"
     ]
    }
   ],
   "source": [
    "# You can now run your model on your own dataset\n",
    "\n",
    "examples = [\n",
    "    {'q': 'Who was the oldest cat in the world?'},\n",
    "]\n",
    "\n",
    "\n",
    "cfg_dict[\"json_dataset\"] = {\n",
    "    \"path\": None,\n",
    "    \"field_map\": [\n",
    "            {\n",
    "                \"type\": \"copy\",\n",
    "                \"from\": \"q\",\n",
    "                \"to\": \"s1\"\n",
    "            },\n",
    "            {\n",
    "                \"type\": \"copy\",\n",
    "                \"from\": \"q\",\n",
    "                \"to\": \"s2\"\n",
    "            }\n",
    "        ]\n",
    "}\n",
    "\n",
    "config = Config(cfg_dict)\n",
    "\n",
    "    \n",
    "data_loader_custom = JsonDataLoader(config, test_samples=examples)\n",
    "\n",
    "test_loss, all_metrics, (pred_output, gold_output, gold_input), memory_values_to_return = instance.inference(data_loader_custom.test_loader)\n",
    "\n",
    "print(pred_output)"
   ]
  },
  {
   "cell_type": "code",
   "execution_count": null,
   "metadata": {},
   "outputs": [],
   "source": []
  }
 ],
 "metadata": {
  "kernelspec": {
   "display_name": "Python 3",
   "language": "python",
   "name": "python3"
  },
  "language_info": {
   "codemirror_mode": {
    "name": "ipython",
    "version": 3
   },
   "file_extension": ".py",
   "mimetype": "text/x-python",
   "name": "python",
   "nbconvert_exporter": "python",
   "pygments_lexer": "ipython3",
   "version": "3.8.8"
  }
 },
 "nbformat": 4,
 "nbformat_minor": 4
}
