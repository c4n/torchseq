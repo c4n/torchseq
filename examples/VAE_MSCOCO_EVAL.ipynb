{
 "cells": [
  {
   "cell_type": "code",
   "execution_count": 5,
   "id": "a34260d9",
   "metadata": {},
   "outputs": [
    {
     "name": "stdout",
     "output_type": "stream",
     "text": [
      "num_similar_heads is deprecated! Use \"splice_head_offset\" instead\n"
     ]
    },
    {
     "name": "stderr",
     "output_type": "stream",
     "text": [
      "Validating after 31 epochs: 100%|██████████| 313/313 [01:14<00:00,  4.20it/s]\n"
     ]
    },
    {
     "name": "stdout",
     "output_type": "stream",
     "text": [
      "MSCOCO Score: 24.94/17.14/16.53\n"
     ]
    }
   ],
   "source": [
    "import json, jsonlines, sacrebleu\n",
    "from torchseq.agents.para_agent import ParaphraseAgent\n",
    "from torchseq.datasets.json_loader import JsonDataLoader\n",
    "from torchseq.utils.config import Config\n",
    "\n",
    "from torchseq.agents.seq2seq_agent import Seq2SeqAgent\n",
    "\n",
    "import torch\n",
    "\n",
    "# Which checkpoint should we load?\n",
    "path_to_model = '/ist-project/scads/can/disentaglement_projects/torchseq/runs/vae/20220910_175450_paraphrasing_vae_mscoco'\n",
    "\n",
    "DATA_PATH = '../data/'\n",
    "\n",
    "# Load the data\n",
    "with jsonlines.open(DATA_PATH + 'mscoco-eval/test.jsonl') as f:\n",
    "    rows = [row for row in f]\n",
    "\n",
    "examples = [{'input': row['sem_input']} for row in rows]\n",
    "\n",
    "\n",
    "# Change the config to use the custom dataset\n",
    "with open(path_to_model + \"/config.json\") as f:\n",
    "    cfg_dict = json.load(f)\n",
    "cfg_dict[\"dataset\"] = \"json\"\n",
    "cfg_dict[\"json_dataset\"] = {\n",
    "    \"path\": None,\n",
    "    \"field_map\": [\n",
    "        {\"type\": \"copy\", \"from\": \"input\", \"to\": \"target\"},\n",
    "        {\"type\": \"copy\", \"from\": \"input\", \"to\": \"source\"},\n",
    "#         {\"type\": \"copy\", \"from\": \"input\", \"to\": \"template\"},\n",
    "    ],\n",
    "}\n",
    "\n",
    "# Enable the code predictor\n",
    "# cfg_dict[\"bottleneck\"][\"code_predictor\"][\"infer_codes\"] = True\n",
    "\n",
    "# Create the dataset and model\n",
    "config = Config(cfg_dict)\n",
    "data_loader = JsonDataLoader(config, test_samples=examples, data_path=DATA_PATH)\n",
    "checkpoint_path = path_to_model + \"/model/checkpoint.pt\"\n",
    "# instance = ParaphraseAgent(config=config, run_id=None,  output_path=None, data_path=DATA_PATH, silent=False, verbose=False, training_mode=False)\n",
    "instance = Seq2SeqAgent(config=config, run_id=None,  output_path=None, data_path=DATA_PATH, silent=False, verbose=False, training_mode=False)\n",
    "# Load the checkpoint\n",
    "instance.load_checkpoint(checkpoint_path)\n",
    "instance.model.eval()\n",
    "    \n",
    "# Finally, run inference\n",
    "_, _, (pred_output, _, _), _ = instance.inference(data_loader.test_loader)\n",
    "\n",
    "\n",
    "# Prepare the references\n",
    "refs = [q[\"paras\"] for q in rows]\n",
    "inputs = [[q[\"sem_input\"]] for q in rows]\n",
    "\n",
    "max_num_refs = max([len(x) for x in refs])\n",
    "refs_padded = [x + [x[0]] * (max_num_refs - len(x)) for x in refs]\n",
    "\n",
    "# Calculate iBLEU scores\n",
    "tgt_bleu = sacrebleu.corpus_bleu(pred_output, list(zip(*refs_padded)), lowercase=True).score\n",
    "self_bleu = sacrebleu.corpus_bleu(pred_output, list(zip(*inputs)), lowercase=True).score\n",
    "\n",
    "alpha = 0.8\n",
    "ibleu = alpha * tgt_bleu - (1 - alpha) * self_bleu\n",
    "\n",
    "print('MSCOCO Score: {:0.2f}/{:0.2f}/{:0.2f}'.format( tgt_bleu, self_bleu, ibleu))"
   ]
  },
  {
   "cell_type": "code",
   "execution_count": null,
   "id": "c8115606",
   "metadata": {},
   "outputs": [],
   "source": []
  }
 ],
 "metadata": {
  "kernelspec": {
   "display_name": "torchseq",
   "language": "python",
   "name": "torchseq"
  },
  "language_info": {
   "codemirror_mode": {
    "name": "ipython",
    "version": 3
   },
   "file_extension": ".py",
   "mimetype": "text/x-python",
   "name": "python",
   "nbconvert_exporter": "python",
   "pygments_lexer": "ipython3",
   "version": "3.8.13"
  }
 },
 "nbformat": 4,
 "nbformat_minor": 5
}
