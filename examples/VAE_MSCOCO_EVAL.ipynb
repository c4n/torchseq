{
 "cells": [
  {
   "cell_type": "code",
   "execution_count": 2,
   "id": "a34260d9",
   "metadata": {
    "scrolled": true
   },
   "outputs": [
    {
     "name": "stdout",
     "output_type": "stream",
     "text": [
      "num_similar_heads is deprecated! Use \"splice_head_offset\" instead\n"
     ]
    },
    {
     "name": "stderr",
     "output_type": "stream",
     "text": [
      "Validating after 31 epochs: 100%|██████████| 313/313 [01:08<00:00,  4.59it/s]\n"
     ]
    },
    {
     "name": "stdout",
     "output_type": "stream",
     "text": [
      "MSCOCO Score: 25.29/17.72/16.69\n"
     ]
    }
   ],
   "source": [
    "import json, jsonlines, sacrebleu\n",
    "from torchseq.agents.para_agent import ParaphraseAgent\n",
    "from torchseq.datasets.json_loader import JsonDataLoader\n",
    "from torchseq.utils.config import Config\n",
    "\n",
    "from torchseq.agents.seq2seq_agent import Seq2SeqAgent\n",
    "\n",
    "import torch\n",
    "\n",
    "# Which checkpoint should we load?\n",
    "path_to_model = '/ist-project/scads/can/disentaglement_projects/torchseq/runs/vae/20221004_204410_paraphrasing_vae_mscoco_sep_loss_full_test789_smallsim'\n",
    "\n",
    "DATA_PATH = '../data/'\n",
    "\n",
    "# Load the data\n",
    "with jsonlines.open(DATA_PATH + 'mscoco-eval/test.jsonl') as f:\n",
    "    rows = [row for row in f]\n",
    "\n",
    "examples = [{'input': row['sem_input']} for row in rows]\n",
    "\n",
    "\n",
    "# Change the config to use the custom dataset\n",
    "with open(path_to_model + \"/config.json\") as f:\n",
    "    cfg_dict = json.load(f)\n",
    "cfg_dict[\"dataset\"] = \"json\"\n",
    "cfg_dict[\"json_dataset\"] = {\n",
    "    \"path\": None,\n",
    "    \"field_map\": [\n",
    "        {\"type\": \"copy\", \"from\": \"input\", \"to\": \"target\"},\n",
    "        {\"type\": \"copy\", \"from\": \"input\", \"to\": \"source\"},\n",
    "#         {\"type\": \"copy\", \"from\": \"input\", \"to\": \"template\"},\n",
    "    ],\n",
    "}\n",
    "cfg_dict[\"beam_search\"][\"beam_width\"] = 3 # set beam\n",
    "# Enable the code predictor\n",
    "# cfg_dict[\"bottleneck\"][\"code_predictor\"][\"infer_codes\"] = True\n",
    "\n",
    "# Create the dataset and model\n",
    "config = Config(cfg_dict)\n",
    "data_loader = JsonDataLoader(config, test_samples=examples, data_path=DATA_PATH)\n",
    "checkpoint_path = path_to_model + \"/model/checkpoint.pt\"\n",
    "# instance = ParaphraseAgent(config=config, run_id=None,  output_path=None, data_path=DATA_PATH, silent=False, verbose=False, training_mode=False)\n",
    "instance = Seq2SeqAgent(config=config, run_id=None,  output_path=None, data_path=DATA_PATH, silent=False, verbose=False, training_mode=False)\n",
    "# Load the checkpoint\n",
    "instance.load_checkpoint(checkpoint_path)\n",
    "instance.model.eval()\n",
    "    \n",
    "# Finally, run inference\n",
    "test_loss, all_metrics, (pred_output, gold_output, gold_input), memory_values_to_return  = instance.inference(data_loader.test_loader)\n",
    "\n",
    "\n",
    "# Prepare the references\n",
    "refs = [q[\"paras\"] for q in rows]\n",
    "inputs = [[q[\"sem_input\"]] for q in rows]\n",
    "\n",
    "max_num_refs = max([len(x) for x in refs])\n",
    "refs_padded = [x + [x[0]] * (max_num_refs - len(x)) for x in refs]\n",
    "\n",
    "# Calculate iBLEU scores\n",
    "tgt_bleu = sacrebleu.corpus_bleu(pred_output, list(zip(*refs_padded)), lowercase=True).score\n",
    "self_bleu = sacrebleu.corpus_bleu(pred_output, list(zip(*inputs)), lowercase=True).score\n",
    "\n",
    "alpha = 0.8\n",
    "ibleu = alpha * tgt_bleu - (1 - alpha) * self_bleu\n",
    "\n",
    "print('MSCOCO Score: {:0.2f}/{:0.2f}/{:0.2f}'.format( tgt_bleu, self_bleu, ibleu))"
   ]
  },
  {
   "cell_type": "code",
   "execution_count": 2,
   "id": "c8115606",
   "metadata": {},
   "outputs": [],
   "source": [
    "# 123: 24.94/17.14/16.53\n",
    "# 456: 24.93/16.98/16.55\n",
    "# 789: 24.74/17.08/16.38\n",
    "\n",
    "# sep123: 24.71/17.03/16.36\n",
    "# sep456: 25.16/16.93/16.74\n",
    "\n",
    "# fullsep123: 25.63/17.62/16.98\n",
    "# fullsep456: 25.37/18.14/16.67\n",
    "# fullsep789: 25.29/17.72/16.69\n",
    "\n",
    "\n",
    "# fullsep123smallsim: 25.63/17.62/16.98\n",
    "# fullsep456: 25.37/18.14/16.67\n",
    "# fullsep789: 25.29/17.72/16.69\n",
    "\n",
    "\n",
    "# expectation: 27.44/24.40/16.99"
   ]
  },
  {
   "cell_type": "code",
   "execution_count": 19,
   "id": "b4dcae75",
   "metadata": {},
   "outputs": [
    {
     "name": "stdout",
     "output_type": "stream",
     "text": [
      "MSCOCO Score: 22.08/14.87/14.69\n"
     ]
    }
   ],
   "source": [
    "tgt_bleu = sacrebleu.corpus_bleu(pred_output, list(zip(*refs_padded)), lowercase=False).score\n",
    "self_bleu = sacrebleu.corpus_bleu(pred_output, list(zip(*inputs)), lowercase=False).score\n",
    "\n",
    "alpha = 0.8\n",
    "ibleu = alpha * tgt_bleu - (1 - alpha) * self_bleu\n",
    "\n",
    "print('MSCOCO Score: {:0.2f}/{:0.2f}/{:0.2f}'.format( tgt_bleu, self_bleu, ibleu))"
   ]
  },
  {
   "cell_type": "code",
   "execution_count": 20,
   "id": "44741ed4",
   "metadata": {},
   "outputs": [
    {
     "data": {
      "text/plain": [
       "{}"
      ]
     },
     "execution_count": 20,
     "metadata": {},
     "output_type": "execute_result"
    }
   ],
   "source": [
    "all_metrics"
   ]
  },
  {
   "cell_type": "code",
   "execution_count": 5,
   "id": "0add7aba",
   "metadata": {},
   "outputs": [
    {
     "data": {
      "text/plain": [
       "['A Honda motorcycle parked in a grass driveway',\n",
       " 'A black Honda motorcycle with a dark burgundy seat.',\n",
       " 'Ma motorcycle parked on the gravel in front of a garage',\n",
       " 'A motorcycle with its brake extended standing outside']"
      ]
     },
     "execution_count": 5,
     "metadata": {},
     "output_type": "execute_result"
    }
   ],
   "source": [
    "refs[0]"
   ]
  },
  {
   "cell_type": "code",
   "execution_count": 6,
   "id": "b7de6779",
   "metadata": {},
   "outputs": [
    {
     "data": {
      "text/plain": [
       "['A Honda motorcycle parked in a grass driveway',\n",
       " 'A black Honda motorcycle with a dark burgundy seat.',\n",
       " 'Ma motorcycle parked on the gravel in front of a garage',\n",
       " 'A motorcycle with its brake extended standing outside',\n",
       " 'A Honda motorcycle parked in a grass driveway',\n",
       " 'A Honda motorcycle parked in a grass driveway']"
      ]
     },
     "execution_count": 6,
     "metadata": {},
     "output_type": "execute_result"
    }
   ],
   "source": [
    "refs_padded[0]"
   ]
  },
  {
   "cell_type": "code",
   "execution_count": 22,
   "id": "323d7806",
   "metadata": {
    "scrolled": true
   },
   "outputs": [
    {
     "name": "stdout",
     "output_type": "stream",
     "text": [
      "A woman wearing a hat & pink top takes a selfie in front of a bathroom mirror. a woman taking a selfie in front of a bathroom mirror.\n",
      "A cat eating a bird it has caught. a cat eating a bird on the ground.\n",
      "A young attractive woman sitting on a toilette on the side of a street. a woman sitting on a toilet in a bathroom.\n",
      "A toddler celebrates his birthday with a cupcake. a young boy sitting at a table with a cupcake.\n",
      "A plane floating on top of a lake surrounded by mountains. a small plane is sitting in the water\n"
     ]
    }
   ],
   "source": [
    "#\n",
    "for i in [16, 5, 27, 33, 236]:\n",
    "    print(inputs[i][0],pred_output[i])"
   ]
  },
  {
   "cell_type": "code",
   "execution_count": 11,
   "id": "0ad0b802",
   "metadata": {},
   "outputs": [
    {
     "data": {
      "text/plain": [
       "['A small closed toilet in a cramped space.']"
      ]
     },
     "execution_count": 11,
     "metadata": {},
     "output_type": "execute_result"
    }
   ],
   "source": [
    "inputs[2]"
   ]
  },
  {
   "cell_type": "markdown",
   "id": "555e3423",
   "metadata": {},
   "source": [
    "# 789\n",
    "['A woman wearing a hat & pink top takes a selfie in front of a bathroom mirror.'] a woman taking a selfie in front of a bathroom mirror.\n",
    "['A cat eating a bird it has caught.'] a cat eating a bird on the ground.\n",
    "['A young attractive woman sitting on a toilette on the side of a street.'] a woman sitting on a toilet outside on the sidewalk.\n",
    "['A toddler celebrates his birthday with a cupcake.'] a little boy sitting at a table with a birthday cake.\n",
    "['A plane floating on top of a lake surrounded by mountains.'] a plane is flying over a body of water.\n",
    "In [11]:\n",
    "\n",
    "inputs[2]"
   ]
  },
  {
   "cell_type": "code",
   "execution_count": 17,
   "id": "740e31b3",
   "metadata": {},
   "outputs": [
    {
     "name": "stdout",
     "output_type": "stream",
     "text": [
      "20220910_175450_paraphrasing_vae_mscoco\r\n",
      "20220913_153159_paraphrasing_vae_mscoco_456\r\n",
      "20220913_180809_paraphrasing_vae_paralex\r\n",
      "20220913_220750_paraphrasing_vae_mscoco_sep_loss\r\n",
      "20220914_114052_paraphrasing_vae_mscoco_sep_loss\r\n",
      "20220914_152427_paraphrasing_vae_mscoco_sep_loss\r\n",
      "20220914_160820_paraphrasing_vae_mscoco_sep_loss\r\n",
      "20220914_161142_paraphrasing_vae_mscoco_sep_loss\r\n",
      "20220914_163719_paraphrasing_vae_mscoco_sep_loss\r\n",
      "20220916_122639_paraphrasing_vae_mscoco_sep_loss456\r\n",
      "20220919_175013_paraphrasing_vae_mscoco_sep_loss_full_test456\r\n",
      "20220920_232720_paraphrasing_vae_mscoco_789\r\n",
      "20220921_131137_paraphrasing_vae_mscoco_sep_loss_full_test789\r\n",
      "20220922_004816_paraphrasing_vae_mscoco_sep_loss_full_test123\r\n"
     ]
    }
   ],
   "source": [
    "!ls /ist-project/scads/can/disentaglement_projects/torchseq/runs/vae"
   ]
  },
  {
   "cell_type": "code",
   "execution_count": null,
   "id": "ed6c4166",
   "metadata": {},
   "outputs": [],
   "source": []
  }
 ],
 "metadata": {
  "kernelspec": {
   "display_name": "torchseq",
   "language": "python",
   "name": "torchseq"
  },
  "language_info": {
   "codemirror_mode": {
    "name": "ipython",
    "version": 3
   },
   "file_extension": ".py",
   "mimetype": "text/x-python",
   "name": "python",
   "nbconvert_exporter": "python",
   "pygments_lexer": "ipython3",
   "version": "3.8.13"
  }
 },
 "nbformat": 4,
 "nbformat_minor": 5
}
