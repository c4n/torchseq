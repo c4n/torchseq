{
 "cells": [
  {
   "cell_type": "code",
   "execution_count": 2,
   "metadata": {},
   "outputs": [
    {
     "name": "stderr",
     "output_type": "stream",
     "text": [
      "Validating after 0 epochs: 100%|██████████| 2970/2970 [58:25<00:00,  1.18s/it]  \n"
     ]
    },
    {
     "name": "stdout",
     "output_type": "stream",
     "text": [
      "21.065812894587264\n"
     ]
    }
   ],
   "source": [
    "import json\n",
    "from torchseq.agents.aq_agent import AQAgent\n",
    "from torchseq.datasets.qa_loader import QADataLoader\n",
    "from torchseq.utils.config import Config\n",
    "from torchseq.metric_hooks.textual import TextualMetricHook\n",
    "import torch\n",
    "\n",
    "model_path = '../runs/examples/20210223_191015_qg_bart/'\n",
    "\n",
    "\n",
    "# Load the config\n",
    "with open(model_path + 'config.json') as f:\n",
    "    cfg_dict = json.load(f)\n",
    "cfg_dict[\"env\"][\"data_path\"] = \"../data/\"\n",
    "\n",
    "config = Config(cfg_dict)\n",
    "\n",
    "# Load the model\n",
    "instance = AQAgent(config=config, run_id=None, output_path=\"./runs/examples/qg_bert_eval\", silent=False, verbose=False)\n",
    "instance.load_checkpoint(model_path + 'model/checkpoint.pt')\n",
    "instance.model.eval()\n",
    "\n",
    "# Create a dataset\n",
    "data_loader = QADataLoader(config)\n",
    "\n",
    "# Run inference on the test split\n",
    "test_loss, all_metrics, (pred_output, gold_output, gold_input), memory_values_to_return = instance.inference(data_loader.test_loader, metric_hooks=[TextualMetricHook(config, 'c', 'q')])\n",
    "\n",
    "# Done!\n",
    "print(all_metrics['bleu'])"
   ]
  },
  {
   "cell_type": "code",
   "execution_count": 3,
   "metadata": {},
   "outputs": [
    {
     "name": "stderr",
     "output_type": "stream",
     "text": [
      "Validating after 0 epochs: 100%|██████████| 1/1 [00:00<00:00,  2.43it/s]"
     ]
    },
    {
     "name": "stdout",
     "output_type": "stream",
     "text": [
      "['Who was the oldest cat?', 'How long did Creme Puff live?']\n"
     ]
    },
    {
     "name": "stderr",
     "output_type": "stream",
     "text": [
      "\n"
     ]
    }
   ],
   "source": [
    "# You can now run your model on your own dataset\n",
    "\n",
    "examples = [\n",
    "    {'c': 'Creme Puff was the oldest cat.', 'a': 'Creme Puff'},\n",
    "    {'c': 'Creme Puff lived for 38 years and 3 days', 'a': '38 years and 3 days'},\n",
    "]\n",
    "\n",
    "# The examples need the answer character position, and a placeholder for the question\n",
    "examples = [\n",
    "    {**ex, 'a_pos': ex['c'].index(ex['a']), 'q': ''} for ex in examples\n",
    "]\n",
    "    \n",
    "data_loader_custom = QADataLoader(config, test_samples=examples)\n",
    "\n",
    "test_loss, all_metrics, (pred_output, gold_output, gold_input), memory_values_to_return = instance.inference(data_loader_custom.test_loader)\n",
    "\n",
    "print(pred_output)"
   ]
  },
  {
   "cell_type": "code",
   "execution_count": null,
   "metadata": {},
   "outputs": [],
   "source": []
  }
 ],
 "metadata": {
  "kernelspec": {
   "display_name": "Python 3",
   "language": "python",
   "name": "python3"
  },
  "language_info": {
   "codemirror_mode": {
    "name": "ipython",
    "version": 3
   },
   "file_extension": ".py",
   "mimetype": "text/x-python",
   "name": "python",
   "nbconvert_exporter": "python",
   "pygments_lexer": "ipython3",
   "version": "3.8.5"
  }
 },
 "nbformat": 4,
 "nbformat_minor": 4
}
