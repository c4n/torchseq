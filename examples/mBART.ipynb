{
 "cells": [
  {
   "cell_type": "code",
   "execution_count": null,
   "metadata": {},
   "outputs": [],
   "source": [
    "import json\n",
    "from torchseq.agents.para_agent import ParaphraseAgent\n",
    "from torchseq.datasets.json_loader import JsonDataLoader\n",
    "from torchseq.utils.config import Config\n",
    "import torch\n",
    "\n",
    "\n",
    "\n",
    "with open('../configs/mbart.json') as f:\n",
    "    cfg_dict = json.load(f)\n",
    "cfg_dict[\"env\"][\"data_path\"] = \"../data/\"\n",
    "cfg_dict[\"eval\"][\"eval_batch_size\"] = 1\n",
    "\n",
    "cfg_dict['training'][\"dataset\"] = 'json'\n",
    "cfg_dict[\"json_dataset\"] = {\n",
    "    \"path\": None,\n",
    "    \"field_map\": [\n",
    "        {\"type\": \"copy\", \"from\": \"input\", \"to\": \"s2\"},\n",
    "        {\"type\": \"copy\", \"from\": \"input\", \"to\": \"s1\"},\n",
    "    ],\n",
    "}\n",
    "\n",
    "config = Config(cfg_dict)\n",
    "\n",
    "instance = ParaphraseAgent(config=config, run_id=None, output_path=\"./runs/examples/mbart/\", silent=True, verbose=False)\n",
    "\n",
    "instance.model.eval()\n",
    "\n",
    "examples = [\n",
    "    {'input': 'We can translate from English to French', 'src_lang': 'en_XX', 'tgt_lang': 'fr_XX'},\n",
    "    {'input': 'Nous pouvons traduire de Francais en Anglais', 'src_lang': 'fr_XX', 'tgt_lang': 'en_XX'}\n",
    "]\n",
    "    \n",
    "data_loader = JsonDataLoader(config, test_samples=samples)\n",
    "\n",
    "test_loss, all_metrics, (pred_output, gold_output, gold_input), memory_values_to_return = instance.inference(data_loader.test_loader)\n",
    "\n",
    "print(pred_output)"
   ]
  }
 ],
 "metadata": {
  "kernelspec": {
   "display_name": "Python 3",
   "language": "python",
   "name": "python3"
  },
  "language_info": {
   "codemirror_mode": {
    "name": "ipython",
    "version": 3
   },
   "file_extension": ".py",
   "mimetype": "text/x-python",
   "name": "python",
   "nbconvert_exporter": "python",
   "pygments_lexer": "ipython3",
   "version": "3.8.5"
  }
 },
 "nbformat": 4,
 "nbformat_minor": 4
}
